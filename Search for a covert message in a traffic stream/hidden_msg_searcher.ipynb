{
 "cells": [
  {
   "cell_type": "code",
   "execution_count": 41,
   "metadata": {},
   "outputs": [],
   "source": [
    "import csv\n",
    "import matplotlib.pyplot as plt\n",
    "import pandas as pd\n",
    "import numpy as np"
   ]
  },
  {
   "cell_type": "code",
   "execution_count": 42,
   "metadata": {},
   "outputs": [],
   "source": [
    "df = pd.read_csv('5.csv', delimiter=',')"
   ]
  },
  {
   "cell_type": "code",
   "execution_count": 43,
   "metadata": {},
   "outputs": [
    {
     "data": {
      "text/html": [
       "<div>\n",
       "<style scoped>\n",
       "    .dataframe tbody tr th:only-of-type {\n",
       "        vertical-align: middle;\n",
       "    }\n",
       "\n",
       "    .dataframe tbody tr th {\n",
       "        vertical-align: top;\n",
       "    }\n",
       "\n",
       "    .dataframe thead th {\n",
       "        text-align: right;\n",
       "    }\n",
       "</style>\n",
       "<table border=\"1\" class=\"dataframe\">\n",
       "  <thead>\n",
       "    <tr style=\"text-align: right;\">\n",
       "      <th></th>\n",
       "      <th>No.</th>\n",
       "      <th>Time</th>\n",
       "      <th>Source</th>\n",
       "      <th>Destination</th>\n",
       "      <th>Protocol</th>\n",
       "      <th>Length</th>\n",
       "      <th>Info</th>\n",
       "    </tr>\n",
       "  </thead>\n",
       "  <tbody>\n",
       "    <tr>\n",
       "      <th>0</th>\n",
       "      <td>1</td>\n",
       "      <td>0.000000</td>\n",
       "      <td>127.0.0.1</td>\n",
       "      <td>127.0.0.1</td>\n",
       "      <td>UDP</td>\n",
       "      <td>56</td>\n",
       "      <td>65310→13337Len=24</td>\n",
       "    </tr>\n",
       "    <tr>\n",
       "      <th>1</th>\n",
       "      <td>2</td>\n",
       "      <td>2.457669</td>\n",
       "      <td>127.0.0.1</td>\n",
       "      <td>127.0.0.1</td>\n",
       "      <td>UDP</td>\n",
       "      <td>56</td>\n",
       "      <td>65310→13337Len=24</td>\n",
       "    </tr>\n",
       "    <tr>\n",
       "      <th>2</th>\n",
       "      <td>3</td>\n",
       "      <td>5.196244</td>\n",
       "      <td>127.0.0.1</td>\n",
       "      <td>127.0.0.1</td>\n",
       "      <td>UDP</td>\n",
       "      <td>56</td>\n",
       "      <td>65310→13337Len=24</td>\n",
       "    </tr>\n",
       "    <tr>\n",
       "      <th>3</th>\n",
       "      <td>4</td>\n",
       "      <td>7.544762</td>\n",
       "      <td>127.0.0.1</td>\n",
       "      <td>127.0.0.1</td>\n",
       "      <td>UDP</td>\n",
       "      <td>56</td>\n",
       "      <td>65310→13337Len=24</td>\n",
       "    </tr>\n",
       "    <tr>\n",
       "      <th>4</th>\n",
       "      <td>5</td>\n",
       "      <td>11.072146</td>\n",
       "      <td>127.0.0.1</td>\n",
       "      <td>127.0.0.1</td>\n",
       "      <td>UDP</td>\n",
       "      <td>56</td>\n",
       "      <td>65310→13337Len=24</td>\n",
       "    </tr>\n",
       "    <tr>\n",
       "      <th>...</th>\n",
       "      <td>...</td>\n",
       "      <td>...</td>\n",
       "      <td>...</td>\n",
       "      <td>...</td>\n",
       "      <td>...</td>\n",
       "      <td>...</td>\n",
       "      <td>...</td>\n",
       "    </tr>\n",
       "    <tr>\n",
       "      <th>223</th>\n",
       "      <td>224</td>\n",
       "      <td>398.770833</td>\n",
       "      <td>127.0.0.1</td>\n",
       "      <td>127.0.0.1</td>\n",
       "      <td>UDP</td>\n",
       "      <td>47</td>\n",
       "      <td>65310→13337Len=15</td>\n",
       "    </tr>\n",
       "    <tr>\n",
       "      <th>224</th>\n",
       "      <td>225</td>\n",
       "      <td>400.230452</td>\n",
       "      <td>127.0.0.1</td>\n",
       "      <td>127.0.0.1</td>\n",
       "      <td>UDP</td>\n",
       "      <td>47</td>\n",
       "      <td>65310→13337Len=15</td>\n",
       "    </tr>\n",
       "    <tr>\n",
       "      <th>225</th>\n",
       "      <td>226</td>\n",
       "      <td>401.514238</td>\n",
       "      <td>127.0.0.1</td>\n",
       "      <td>127.0.0.1</td>\n",
       "      <td>UDP</td>\n",
       "      <td>47</td>\n",
       "      <td>65310→13337Len=15</td>\n",
       "    </tr>\n",
       "    <tr>\n",
       "      <th>226</th>\n",
       "      <td>227</td>\n",
       "      <td>402.013847</td>\n",
       "      <td>127.0.0.1</td>\n",
       "      <td>127.0.0.1</td>\n",
       "      <td>UDP</td>\n",
       "      <td>47</td>\n",
       "      <td>65310→13337Len=15</td>\n",
       "    </tr>\n",
       "    <tr>\n",
       "      <th>227</th>\n",
       "      <td>228</td>\n",
       "      <td>402.601173</td>\n",
       "      <td>127.0.0.1</td>\n",
       "      <td>127.0.0.1</td>\n",
       "      <td>UDP</td>\n",
       "      <td>47</td>\n",
       "      <td>65310→13337Len=15</td>\n",
       "    </tr>\n",
       "  </tbody>\n",
       "</table>\n",
       "<p>228 rows × 7 columns</p>\n",
       "</div>"
      ],
      "text/plain": [
       "     No.        Time     Source Destination Protocol  Length  \\\n",
       "0      1    0.000000  127.0.0.1   127.0.0.1      UDP      56   \n",
       "1      2    2.457669  127.0.0.1   127.0.0.1      UDP      56   \n",
       "2      3    5.196244  127.0.0.1   127.0.0.1      UDP      56   \n",
       "3      4    7.544762  127.0.0.1   127.0.0.1      UDP      56   \n",
       "4      5   11.072146  127.0.0.1   127.0.0.1      UDP      56   \n",
       "..   ...         ...        ...         ...      ...     ...   \n",
       "223  224  398.770833  127.0.0.1   127.0.0.1      UDP      47   \n",
       "224  225  400.230452  127.0.0.1   127.0.0.1      UDP      47   \n",
       "225  226  401.514238  127.0.0.1   127.0.0.1      UDP      47   \n",
       "226  227  402.013847  127.0.0.1   127.0.0.1      UDP      47   \n",
       "227  228  402.601173  127.0.0.1   127.0.0.1      UDP      47   \n",
       "\n",
       "                  Info  \n",
       "0    65310→13337Len=24  \n",
       "1    65310→13337Len=24  \n",
       "2    65310→13337Len=24  \n",
       "3    65310→13337Len=24  \n",
       "4    65310→13337Len=24  \n",
       "..                 ...  \n",
       "223  65310→13337Len=15  \n",
       "224  65310→13337Len=15  \n",
       "225  65310→13337Len=15  \n",
       "226  65310→13337Len=15  \n",
       "227  65310→13337Len=15  \n",
       "\n",
       "[228 rows x 7 columns]"
      ]
     },
     "execution_count": 43,
     "metadata": {},
     "output_type": "execute_result"
    }
   ],
   "source": [
    "df"
   ]
  },
  {
   "cell_type": "code",
   "execution_count": 45,
   "metadata": {},
   "outputs": [],
   "source": [
    "def time_interval(df):\n",
    "    interval = []\n",
    "    interval.append(0)\n",
    "    i = 1\n",
    "    while i < len(df):\n",
    "        t = (df.Time[i]-df.Time[i-1])\n",
    "        interval.append(t)\n",
    "        i = i + 1\n",
    "    df['interval'] = interval\n",
    "    return df"
   ]
  },
  {
   "cell_type": "code",
   "execution_count": 46,
   "metadata": {},
   "outputs": [],
   "source": [
    "df = time_interval(df)"
   ]
  },
  {
   "cell_type": "code",
   "execution_count": 66,
   "metadata": {},
   "outputs": [
    {
     "data": {
      "text/html": [
       "<div>\n",
       "<style scoped>\n",
       "    .dataframe tbody tr th:only-of-type {\n",
       "        vertical-align: middle;\n",
       "    }\n",
       "\n",
       "    .dataframe tbody tr th {\n",
       "        vertical-align: top;\n",
       "    }\n",
       "\n",
       "    .dataframe thead th {\n",
       "        text-align: right;\n",
       "    }\n",
       "</style>\n",
       "<table border=\"1\" class=\"dataframe\">\n",
       "  <thead>\n",
       "    <tr style=\"text-align: right;\">\n",
       "      <th></th>\n",
       "      <th>No.</th>\n",
       "      <th>Time</th>\n",
       "      <th>Source</th>\n",
       "      <th>Destination</th>\n",
       "      <th>Protocol</th>\n",
       "      <th>Length</th>\n",
       "      <th>Info</th>\n",
       "      <th>interval</th>\n",
       "    </tr>\n",
       "  </thead>\n",
       "  <tbody>\n",
       "    <tr>\n",
       "      <th>0</th>\n",
       "      <td>1</td>\n",
       "      <td>0.000000</td>\n",
       "      <td>127.0.0.1</td>\n",
       "      <td>127.0.0.1</td>\n",
       "      <td>UDP</td>\n",
       "      <td>56</td>\n",
       "      <td>65310→13337Len=24</td>\n",
       "      <td>0.000000</td>\n",
       "    </tr>\n",
       "    <tr>\n",
       "      <th>1</th>\n",
       "      <td>2</td>\n",
       "      <td>2.457669</td>\n",
       "      <td>127.0.0.1</td>\n",
       "      <td>127.0.0.1</td>\n",
       "      <td>UDP</td>\n",
       "      <td>56</td>\n",
       "      <td>65310→13337Len=24</td>\n",
       "      <td>2.457669</td>\n",
       "    </tr>\n",
       "    <tr>\n",
       "      <th>2</th>\n",
       "      <td>3</td>\n",
       "      <td>5.196244</td>\n",
       "      <td>127.0.0.1</td>\n",
       "      <td>127.0.0.1</td>\n",
       "      <td>UDP</td>\n",
       "      <td>56</td>\n",
       "      <td>65310→13337Len=24</td>\n",
       "      <td>2.738575</td>\n",
       "    </tr>\n",
       "    <tr>\n",
       "      <th>3</th>\n",
       "      <td>4</td>\n",
       "      <td>7.544762</td>\n",
       "      <td>127.0.0.1</td>\n",
       "      <td>127.0.0.1</td>\n",
       "      <td>UDP</td>\n",
       "      <td>56</td>\n",
       "      <td>65310→13337Len=24</td>\n",
       "      <td>2.348518</td>\n",
       "    </tr>\n",
       "    <tr>\n",
       "      <th>4</th>\n",
       "      <td>5</td>\n",
       "      <td>11.072146</td>\n",
       "      <td>127.0.0.1</td>\n",
       "      <td>127.0.0.1</td>\n",
       "      <td>UDP</td>\n",
       "      <td>56</td>\n",
       "      <td>65310→13337Len=24</td>\n",
       "      <td>3.527384</td>\n",
       "    </tr>\n",
       "    <tr>\n",
       "      <th>...</th>\n",
       "      <td>...</td>\n",
       "      <td>...</td>\n",
       "      <td>...</td>\n",
       "      <td>...</td>\n",
       "      <td>...</td>\n",
       "      <td>...</td>\n",
       "      <td>...</td>\n",
       "      <td>...</td>\n",
       "    </tr>\n",
       "    <tr>\n",
       "      <th>223</th>\n",
       "      <td>224</td>\n",
       "      <td>398.770833</td>\n",
       "      <td>127.0.0.1</td>\n",
       "      <td>127.0.0.1</td>\n",
       "      <td>UDP</td>\n",
       "      <td>47</td>\n",
       "      <td>65310→13337Len=15</td>\n",
       "      <td>0.516533</td>\n",
       "    </tr>\n",
       "    <tr>\n",
       "      <th>224</th>\n",
       "      <td>225</td>\n",
       "      <td>400.230452</td>\n",
       "      <td>127.0.0.1</td>\n",
       "      <td>127.0.0.1</td>\n",
       "      <td>UDP</td>\n",
       "      <td>47</td>\n",
       "      <td>65310→13337Len=15</td>\n",
       "      <td>1.459619</td>\n",
       "    </tr>\n",
       "    <tr>\n",
       "      <th>225</th>\n",
       "      <td>226</td>\n",
       "      <td>401.514238</td>\n",
       "      <td>127.0.0.1</td>\n",
       "      <td>127.0.0.1</td>\n",
       "      <td>UDP</td>\n",
       "      <td>47</td>\n",
       "      <td>65310→13337Len=15</td>\n",
       "      <td>1.283786</td>\n",
       "    </tr>\n",
       "    <tr>\n",
       "      <th>226</th>\n",
       "      <td>227</td>\n",
       "      <td>402.013847</td>\n",
       "      <td>127.0.0.1</td>\n",
       "      <td>127.0.0.1</td>\n",
       "      <td>UDP</td>\n",
       "      <td>47</td>\n",
       "      <td>65310→13337Len=15</td>\n",
       "      <td>0.499609</td>\n",
       "    </tr>\n",
       "    <tr>\n",
       "      <th>227</th>\n",
       "      <td>228</td>\n",
       "      <td>402.601173</td>\n",
       "      <td>127.0.0.1</td>\n",
       "      <td>127.0.0.1</td>\n",
       "      <td>UDP</td>\n",
       "      <td>47</td>\n",
       "      <td>65310→13337Len=15</td>\n",
       "      <td>0.587326</td>\n",
       "    </tr>\n",
       "  </tbody>\n",
       "</table>\n",
       "<p>228 rows × 8 columns</p>\n",
       "</div>"
      ],
      "text/plain": [
       "     No.        Time     Source Destination Protocol  Length  \\\n",
       "0      1    0.000000  127.0.0.1   127.0.0.1      UDP      56   \n",
       "1      2    2.457669  127.0.0.1   127.0.0.1      UDP      56   \n",
       "2      3    5.196244  127.0.0.1   127.0.0.1      UDP      56   \n",
       "3      4    7.544762  127.0.0.1   127.0.0.1      UDP      56   \n",
       "4      5   11.072146  127.0.0.1   127.0.0.1      UDP      56   \n",
       "..   ...         ...        ...         ...      ...     ...   \n",
       "223  224  398.770833  127.0.0.1   127.0.0.1      UDP      47   \n",
       "224  225  400.230452  127.0.0.1   127.0.0.1      UDP      47   \n",
       "225  226  401.514238  127.0.0.1   127.0.0.1      UDP      47   \n",
       "226  227  402.013847  127.0.0.1   127.0.0.1      UDP      47   \n",
       "227  228  402.601173  127.0.0.1   127.0.0.1      UDP      47   \n",
       "\n",
       "                  Info  interval  \n",
       "0    65310→13337Len=24  0.000000  \n",
       "1    65310→13337Len=24  2.457669  \n",
       "2    65310→13337Len=24  2.738575  \n",
       "3    65310→13337Len=24  2.348518  \n",
       "4    65310→13337Len=24  3.527384  \n",
       "..                 ...       ...  \n",
       "223  65310→13337Len=15  0.516533  \n",
       "224  65310→13337Len=15  1.459619  \n",
       "225  65310→13337Len=15  1.283786  \n",
       "226  65310→13337Len=15  0.499609  \n",
       "227  65310→13337Len=15  0.587326  \n",
       "\n",
       "[228 rows x 8 columns]"
      ]
     },
     "execution_count": 66,
     "metadata": {},
     "output_type": "execute_result"
    }
   ],
   "source": [
    "df"
   ]
  },
  {
   "cell_type": "markdown",
   "metadata": {},
   "source": [
    "1. Построить гистограмму отсортированных по возрастанию длин межпакетных интервалов. Определить значение вероятности присутствия скрытого канала в системе."
   ]
  },
  {
   "cell_type": "code",
   "execution_count": 67,
   "metadata": {},
   "outputs": [
    {
     "data": {
      "text/plain": [
       "Text(0.5, 1.0, 'Распределение длины межпакетных интервалов для всего трафика')"
      ]
     },
     "execution_count": 67,
     "metadata": {},
     "output_type": "execute_result"
    },
    {
     "data": {
      "image/png": "[encoded data removed]",
      "text/plain": [
       "<Figure size 432x288 with 1 Axes>"
      ]
     },
     "metadata": {
      "needs_background": "light"
     },
     "output_type": "display_data"
    }
   ],
   "source": [
    "plt.hist(df['interval'], color='r', bins=13)\n",
    "plt.xlabel('time')\n",
    "plt.ylabel('N')\n",
    "plt.title('Распределение длины межпакетных интервалов для всего трафика')"
   ]
  },
  {
   "cell_type": "code",
   "execution_count": 48,
   "metadata": {},
   "outputs": [],
   "source": [
    "counts, bin_edges = np.histogram(df['interval'], bins=13)"
   ]
  },
  {
   "cell_type": "code",
   "execution_count": 49,
   "metadata": {},
   "outputs": [
    {
     "data": {
      "text/plain": [
       "array([35, 42, 33, 33, 12, 26, 20, 14,  8,  4,  0,  0,  1], dtype=int64)"
      ]
     },
     "execution_count": 49,
     "metadata": {},
     "output_type": "execute_result"
    }
   ],
   "source": [
    "counts"
   ]
  },
  {
   "cell_type": "code",
   "execution_count": 50,
   "metadata": {},
   "outputs": [
    {
     "name": "stdout",
     "output_type": "stream",
     "text": [
      "вероятность наличия скрытого канала равна = 71.43%\n"
     ]
    }
   ],
   "source": [
    "P = round((1 - (12/42)) * 100, 2)\n",
    "print('вероятность наличия скрытого канала равна = ' + str(P) + '%')"
   ]
  },
  {
   "cell_type": "markdown",
   "metadata": {},
   "source": [
    "2. Построить гистограмму отсортированных по возрастанию длин межпакетных интервалов для трафика, в который включен только промежуток с передачей скрытого сообщения. Определить значение вероятности присутствия скрытого канала в системе."
   ]
  },
  {
   "cell_type": "code",
   "execution_count": 68,
   "metadata": {},
   "outputs": [
    {
     "data": {
      "text/plain": [
       "Text(0.5, 1.0, 'Распределение длины межпакетных интервалов для трафика с скрытом каналом')"
      ]
     },
     "execution_count": 68,
     "metadata": {},
     "output_type": "execute_result"
    },
    {
     "data": {
      "image/png": "[encoded data removed]",
      "text/plain": [
       "<Figure size 432x288 with 1 Axes>"
      ]
     },
     "metadata": {
      "needs_background": "light"
     },
     "output_type": "display_data"
    }
   ],
   "source": [
    "df1 = df[100:]\n",
    "plt.hist(df1['interval'], color='g', bins=6)\n",
    "plt.xlabel('time')\n",
    "plt.ylabel('N')\n",
    "plt.title('Распределение длины межпакетных интервалов для трафика с скрытом каналом')"
   ]
  },
  {
   "cell_type": "code",
   "execution_count": 52,
   "metadata": {},
   "outputs": [
    {
     "data": {
      "text/plain": [
       "array([45, 25,  4, 15, 18, 21], dtype=int64)"
      ]
     },
     "execution_count": 52,
     "metadata": {},
     "output_type": "execute_result"
    }
   ],
   "source": [
    "counts1, bin_edges1 = np.histogram(df1['interval'], bins=6)\n",
    "counts1"
   ]
  },
  {
   "cell_type": "code",
   "execution_count": 53,
   "metadata": {},
   "outputs": [
    {
     "name": "stdout",
     "output_type": "stream",
     "text": [
      "вероятность наличия скрытого канала равна = 91.11%\n"
     ]
    }
   ],
   "source": [
    "P1 = round((1 - (4/45)) * 100, 2)\n",
    "print('вероятность наличия скрытого канала равна = ' + str(P1) + '%')"
   ]
  },
  {
   "cell_type": "markdown",
   "metadata": {},
   "source": [
    "3. Разработать средство декодирования скрытого сообщения и определить, какое скрытое сообщение было передано."
   ]
  },
  {
   "cell_type": "markdown",
   "metadata": {},
   "source": [
    "В качетсве порогового значения возьмём 1, так как при этом значении достигается минимум на гистограмме и стреднее значение последовательности интервалов равно примерно этому же значению.\n"
   ]
  },
  {
   "cell_type": "code",
   "execution_count": 58,
   "metadata": {},
   "outputs": [],
   "source": [
    "covert_message = ''\n",
    "for i in range(100, len(df)):\n",
    "    if df.interval[i] < 1:\n",
    "        covert_message += '1'\n",
    "    else:\n",
    "        covert_message += '0'"
   ]
  },
  {
   "cell_type": "code",
   "execution_count": 59,
   "metadata": {},
   "outputs": [
    {
     "data": {
      "text/plain": [
       "'01110100011000110110001101011111011011010110010101110011011100110110000101100111011001010101111101101001011100000110010001110011'"
      ]
     },
     "execution_count": 59,
     "metadata": {},
     "output_type": "execute_result"
    }
   ],
   "source": [
    "covert_message"
   ]
  },
  {
   "cell_type": "code",
   "execution_count": 64,
   "metadata": {},
   "outputs": [],
   "source": [
    "def decode_binary_string(s):\n",
    "    return ''.join(chr(int(s[i*8:i*8+8],2)) for i in range(len(s)//8))"
   ]
  },
  {
   "cell_type": "code",
   "execution_count": 65,
   "metadata": {},
   "outputs": [
    {
     "data": {
      "text/plain": [
       "'tcc_message_ipds'"
      ]
     },
     "execution_count": 65,
     "metadata": {},
     "output_type": "execute_result"
    }
   ],
   "source": [
    "decode_binary_string(covert_message)"
   ]
  },
  {
   "cell_type": "code",
   "execution_count": null,
   "metadata": {},
   "outputs": [],
   "source": []
  }
 ],
 "metadata": {
  "kernelspec": {
   "display_name": "Python 3",
   "language": "python",
   "name": "python3"
  },
  "language_info": {
   "codemirror_mode": {
    "name": "ipython",
    "version": 3
   },
   "file_extension": ".py",
   "mimetype": "text/x-python",
   "name": "python",
   "nbconvert_exporter": "python",
   "pygments_lexer": "ipython3",
   "version": "3.8.5"
  }
 },
 "nbformat": 4,
 "nbformat_minor": 4
}
